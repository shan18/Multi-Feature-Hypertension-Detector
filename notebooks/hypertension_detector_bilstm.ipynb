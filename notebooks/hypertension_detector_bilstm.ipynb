{
  "nbformat": 4,
  "nbformat_minor": 0,
  "metadata": {
    "colab": {
      "name": "hypertension_detector_bilstm.ipynb",
      "provenance": [],
      "collapsed_sections": []
    },
    "kernelspec": {
      "name": "python3",
      "display_name": "Python 3"
    },
    "language_info": {
      "name": "python"
    },
    "accelerator": "GPU"
  },
  "cells": [
    {
      "cell_type": "markdown",
      "metadata": {
        "id": "43IeGp8O1z2J"
      },
      "source": [
        "### Get Dataset from Google Drive"
      ]
    },
    {
      "cell_type": "code",
      "metadata": {
        "id": "7jlPlHPo1Mqu"
      },
      "source": [
        "from google.colab import drive\n",
        "drive.mount('/content/drive')"
      ],
      "execution_count": null,
      "outputs": []
    },
    {
      "cell_type": "code",
      "metadata": {
        "id": "vLpv1CWQ1g5b"
      },
      "source": [
        "!cp '/content/drive/My Drive/physiobank_dataset.json' ."
      ],
      "execution_count": null,
      "outputs": []
    },
    {
      "cell_type": "markdown",
      "metadata": {
        "id": "7Ztbi1sj13F8"
      },
      "source": [
        "## Imports"
      ]
    },
    {
      "cell_type": "code",
      "metadata": {
        "id": "DylbGm141xO6"
      },
      "source": [
        "import json\n",
        "import random\n",
        "import torch\n",
        "from torch import nn, optim\n",
        "from torch.utils.data import Dataset, DataLoader\n",
        "\n",
        "from utils import ProgressBar\n",
        "from dataset import PhysioBank"
      ],
      "execution_count": null,
      "outputs": []
    },
    {
      "cell_type": "code",
      "metadata": {
        "id": "UD3eNhi818_X"
      },
      "source": [
        "random.seed(0)\n",
        "torch.manual_seed(0)\n",
        "\n",
        "device = 'cuda' if torch.cuda.is_available() else 'cpu'"
      ],
      "execution_count": null,
      "outputs": []
    },
    {
      "cell_type": "markdown",
      "metadata": {
        "id": "fdCzfM9V2-AS"
      },
      "source": [
        "## Dataset"
      ]
    },
    {
      "cell_type": "code",
      "metadata": {
        "id": "hT1KxQGV6gyH"
      },
      "source": [
        "class PhysioBank:\n",
        "    def __init__(\n",
        "        self, path, train_batch_size=1, val_batch_size=1, test_batch_size=1,\n",
        "        cuda=False, num_workers=1, train_split=0.7, val_split=0.15, mean=78.78, std=28.35\n",
        "    ):\n",
        "        \"\"\"Initializes the dataset for loading.\"\"\"\n",
        "\n",
        "        self.path = path\n",
        "        self.cuda = cuda\n",
        "        self.num_workers = num_workers\n",
        "        self.train_split = train_split\n",
        "        self.val_split = val_split\n",
        "        self.train_batch_size = train_batch_size\n",
        "        self.val_batch_size = val_batch_size\n",
        "        self.test_batch_size = test_batch_size\n",
        "        self.mean = mean\n",
        "        self.std = std\n",
        "\n",
        "        # Get data\n",
        "        self._create_data(self._read_data())\n",
        "    \n",
        "    def _read_data(self):\n",
        "        with open(self.path) as f:\n",
        "            data = json.load(f)\n",
        "        return data\n",
        "    \n",
        "    def _get_normalization(self, samples):\n",
        "        self.transition, self.scale = {}, {}\n",
        "\n",
        "        # IHR\n",
        "        samples_ihr = [y for x in samples for y in x['ihr']]\n",
        "        self.transition['ihr'] = min(samples_ihr)\n",
        "        self.scale['ihr'] = max(samples_ihr) - self.transition['ihr']\n",
        "\n",
        "        # Age\n",
        "        samples_age = [x['age'] for x in samples]\n",
        "        self.transition['age'] = min(samples_age)\n",
        "        self.scale['age'] = max(samples_age) - self.transition['age']\n",
        "\n",
        "    def _create_data(self, samples):\n",
        "        random.shuffle(samples)\n",
        "\n",
        "        # Calculate number of samples in each set\n",
        "        train_limit = int(len(samples) * self.train_split)\n",
        "        val_limit = int(len(samples) * self.val_split)\n",
        "\n",
        "        # Distribute data\n",
        "        self._get_normalization(samples[:train_limit])\n",
        "        self.train_data = PhysioBankDataset(samples[:train_limit], self.transition, self.scale)\n",
        "        self.val_data = PhysioBankDataset(samples[train_limit:train_limit + val_limit], self.transition, self.scale)\n",
        "        self.test_data = PhysioBankDataset(samples[train_limit + val_limit:], self.transition, self.scale)\n",
        "\n",
        "    def loader(self, type='train', shuffle=True):\n",
        "        loader_args = { 'shuffle': shuffle }\n",
        "\n",
        "        # If GPU exists\n",
        "        if self.cuda:\n",
        "            loader_args['num_workers'] = self.num_workers\n",
        "            loader_args['pin_memory'] = True\n",
        "\n",
        "        if type == 'train':\n",
        "            loader_args['batch_size'] = self.train_batch_size\n",
        "            return DataLoader(self.train_data, **loader_args)\n",
        "        elif type == 'val':\n",
        "            loader_args['batch_size'] = self.val_batch_size\n",
        "            return DataLoader(self.val_data, **loader_args)\n",
        "        else:\n",
        "            loader_args['batch_size'] = self.test_batch_size\n",
        "            return DataLoader(self.test_data, **loader_args)\n",
        "\n",
        "\n",
        "class PhysioBankDataset(Dataset):\n",
        "    def __init__(self, samples, transition, scale):\n",
        "        \"\"\"Initializes the dataset for loading.\"\"\"\n",
        "        super(PhysioBankDataset, self).__init__()\n",
        "        self.samples = samples\n",
        "        self.transition = transition\n",
        "        self.scale = scale\n",
        "\n",
        "    def __len__(self):\n",
        "        \"\"\"Returns length of the dataset.\"\"\"\n",
        "        return len(self.samples)\n",
        "\n",
        "    def __getitem__(self, index):\n",
        "        sample = self.samples[index]\n",
        "\n",
        "        return (\n",
        "            (\n",
        "                (torch.FloatTensor(sample['ihr']) - self.transition['ihr']) / self.scale['ihr'],\n",
        "                torch.FloatTensor([\n",
        "                    sample['gender'],\n",
        "                    (sample['age'] - self.transition['age']) / self.scale['age']\n",
        "                ])\n",
        "            ),\n",
        "            torch.FloatTensor([sample['hypertensive']])\n",
        "        )"
      ],
      "execution_count": null,
      "outputs": []
    },
    {
      "cell_type": "code",
      "metadata": {
        "id": "2vHG8YkY3A1B"
      },
      "source": [
        "dataset = PhysioBank(\n",
        "    'physiobank_dataset.json',\n",
        "    train_batch_size=128,\n",
        "    val_batch_size=128,\n",
        "    test_batch_size=128,\n",
        "    cuda=torch.cuda.is_available()\n",
        ")"
      ],
      "execution_count": null,
      "outputs": []
    },
    {
      "cell_type": "code",
      "metadata": {
        "id": "illBL85z3TYj"
      },
      "source": [
        "train_loader = dataset.loader(type='train')\n",
        "val_loader = dataset.loader(type='val')\n",
        "test_loader = dataset.loader(type='test')"
      ],
      "execution_count": null,
      "outputs": []
    },
    {
      "cell_type": "markdown",
      "metadata": {
        "id": "H64c1t4d3bBs"
      },
      "source": [
        "## Model"
      ]
    },
    {
      "cell_type": "code",
      "metadata": {
        "id": "ozMuT4rBBhlv"
      },
      "source": [
        "class HypertensionDetectorBiLSTM(nn.Module):\n",
        "    def __init__(self, hidden_dim, seq_meta_len, n_layers, dropout, device):\n",
        "        super().__init__()\n",
        "\n",
        "        self.n_layers = n_layers\n",
        "        self.hidden_dim = hidden_dim\n",
        "        self.device = device\n",
        "\n",
        "        self.seq_meta_fc = nn.Linear(seq_meta_len, hidden_dim)\n",
        "        self.rnn = nn.LSTM(1, hidden_dim, num_layers=n_layers, bidirectional=True, dropout=dropout)\n",
        "\n",
        "        self.fc1 = nn.Linear(2 * n_layers * hidden_dim, hidden_dim)\n",
        "        self.fc2 = nn.Linear(hidden_dim, 1)\n",
        "    \n",
        "    def forward(self, seq, seq_meta):\n",
        "        \"\"\"Input shapes\n",
        "\n",
        "        seq: [batch_size, seq_length]\n",
        "        seq_meta: [batch_size, seq_meta_len]\n",
        "        \"\"\"\n",
        "\n",
        "        batch_size, seq_len = seq.shape\n",
        "        seq = seq.unsqueeze(-1).permute(1, 0, 2)  # [seq_len, batch_size, 1]\n",
        "\n",
        "        seq_meta = self.seq_meta_fc(seq_meta)  # [batch_size, hidden_dim]\n",
        "        seq_meta = seq_meta.unsqueeze(0).repeat(self.n_layers * 2, 1, 1)  # [n_layers * 2, batch_size, hidden_dim]\n",
        "\n",
        "        _, (hidden, _) = self.rnn(\n",
        "            seq, (\n",
        "                seq_meta,\n",
        "                torch.zeros(self.n_layers * 2, batch_size, self.hidden_dim).to(self.device)\n",
        "            )\n",
        "        )  # [2 * num_layers, batch_size, hidden_dim]\n",
        "\n",
        "        hidden = hidden.permute(1, 0, 2).reshape(batch_size, -1)  # [batch_size, 2 * num_layers * hidden_dim]\n",
        "\n",
        "        output = self.fc1(hidden)  # [batch_size, 1]\n",
        "        output = self.fc2(output)\n",
        "    \n",
        "        return output"
      ],
      "execution_count": null,
      "outputs": []
    },
    {
      "cell_type": "code",
      "metadata": {
        "id": "sflaNuR60F45"
      },
      "source": [
        "model = HypertensionDetectorBiLSTM(\n",
        "    128, dataset.train_data[0][0][1].shape[0], 2, 0.1, device\n",
        ").to(device)"
      ],
      "execution_count": null,
      "outputs": []
    },
    {
      "cell_type": "code",
      "metadata": {
        "colab": {
          "base_uri": "https://localhost:8080/"
        },
        "id": "xygqAgfyEzjc",
        "outputId": "16f265c2-ad35-49bd-a0b1-a2a62408b338"
      },
      "source": [
        "def count_parameters(model):\n",
        "    return sum(p.numel() for p in model.parameters() if p.requires_grad)\n",
        "\n",
        "print(f'The model has {count_parameters(model):,} trainable parameters')"
      ],
      "execution_count": null,
      "outputs": [
        {
          "output_type": "stream",
          "text": [
            "The model has 595,585 trainable parameters\n"
          ],
          "name": "stdout"
        }
      ]
    },
    {
      "cell_type": "markdown",
      "metadata": {
        "id": "bxggEAds3iLJ"
      },
      "source": [
        "## Train"
      ]
    },
    {
      "cell_type": "markdown",
      "metadata": {
        "id": "JnVgy4bCzIG5"
      },
      "source": [
        "Create optimizer and criterion"
      ]
    },
    {
      "cell_type": "code",
      "metadata": {
        "id": "0ghJ1V9RZ3vp"
      },
      "source": [
        "optimizer = optim.Adam(model.parameters(), lr=0.0001)\n",
        "criterion = nn.BCEWithLogitsLoss().to(device)"
      ],
      "execution_count": null,
      "outputs": []
    },
    {
      "cell_type": "markdown",
      "metadata": {
        "id": "WkGmx9HjzsWv"
      },
      "source": [
        "Define training and validation functions"
      ]
    },
    {
      "cell_type": "code",
      "metadata": {
        "id": "nIMCH8GB3jy0"
      },
      "source": [
        "def train(model, loader, optimizer, criterion, device):\n",
        "    model.train()\n",
        "    pbar = ProgressBar(target=len(loader), width=8)\n",
        "    correct = 0\n",
        "    processed = 0\n",
        "\n",
        "    for batch_idx, data in enumerate(loader, 0):\n",
        "        (source, source_meta), target  = data\n",
        "        source = source.to(device)\n",
        "        source_meta = source_meta.to(device)\n",
        "        target = target.to(device)\n",
        "\n",
        "        optimizer.zero_grad()\n",
        "        output = model(source, source_meta)\n",
        "\n",
        "        loss = criterion(output, target)\n",
        "        loss.backward()\n",
        "\n",
        "        optimizer.step()\n",
        "\n",
        "        pred = (output > 0.5).float()\n",
        "        correct += pred.eq(target.view_as(pred)).sum().item()\n",
        "        processed += len(target)\n",
        "        accuracy = 100 * correct / processed\n",
        "\n",
        "        pbar.update(batch_idx, values=[\n",
        "            ('Loss', round(loss.item(), 2)), ('Accuracy', round(accuracy, 2))\n",
        "        ])\n",
        "    \n",
        "    pbar.add(1, values=[\n",
        "        ('Loss', round(loss.item(), 2)), ('Accuracy', round(accuracy, 2))\n",
        "    ])"
      ],
      "execution_count": null,
      "outputs": []
    },
    {
      "cell_type": "code",
      "metadata": {
        "id": "5JInmMo_8JyO"
      },
      "source": [
        "def val(model, loader, criterion, device):\n",
        "    model.eval()\n",
        "    correct = 0\n",
        "    loss = 0\n",
        "\n",
        "    with torch.no_grad():\n",
        "        for (source, source_meta), target in loader:\n",
        "            source = source.to(device)\n",
        "            source_meta = source_meta.to(device)\n",
        "            target = target.to(device)\n",
        "\n",
        "            output = model(source, source_meta)\n",
        "\n",
        "            cost = criterion(output, target)\n",
        "            loss += cost.item()\n",
        "\n",
        "            pred = (output > 0.5).float()\n",
        "            correct += pred.eq(target.view_as(pred)).sum().item()\n",
        "    \n",
        "    loss /= len(loader)\n",
        "    accuracy = correct / len(loader)\n",
        "    print(\n",
        "        f'Validation set: Average loss: {loss:.4f}, Accuracy: {accuracy:.2f}%\\n'\n",
        "    )\n",
        "\n",
        "    return accuracy"
      ],
      "execution_count": null,
      "outputs": []
    },
    {
      "cell_type": "code",
      "metadata": {
        "colab": {
          "base_uri": "https://localhost:8080/"
        },
        "id": "6Yf_-bsGFWhw",
        "outputId": "c1120f53-c5a0-465f-9919-5f1ac0a36444"
      },
      "source": [
        "epochs = 100\n",
        "best_val_accuracy = 0\n",
        "\n",
        "for epoch in range(1, epochs + 1):\n",
        "    print(f'Epoch {epoch}:')\n",
        "    train(model, train_loader, optimizer, criterion, device)\n",
        "    accuracy = val(model, val_loader, criterion, device)\n",
        "\n",
        "    if accuracy > best_val_accuracy:\n",
        "        print(f'Validation accuracy improved from {best_val_accuracy:.2f}% to {accuracy:.2f}%\\n')\n",
        "        best_val_accuracy = accuracy\n",
        "        torch.save(model.state_dict(), 'hypertension_detector.pt')"
      ],
      "execution_count": null,
      "outputs": [
        {
          "output_type": "stream",
          "text": [
            "Epoch 1:\n",
            "16/16 [========] - 19s 1s/step - Loss: 0.6900 - Accuracy: 45.1281\n",
            "Validation set: Average loss: 0.6918, Accuracy: 52.00%\n",
            "\n",
            "Validation accuracy improved from 0.00% to 52.00%\n",
            "\n",
            "Epoch 2:\n",
            "16/16 [========] - 19s 1s/step - Loss: 0.6875 - Accuracy: 44.5637\n",
            "Validation set: Average loss: 0.6879, Accuracy: 52.00%\n",
            "\n",
            "Epoch 3:\n",
            "16/16 [========] - 19s 1s/step - Loss: 0.6825 - Accuracy: 46.4031\n",
            "Validation set: Average loss: 0.6849, Accuracy: 52.00%\n",
            "\n",
            "Epoch 4:\n",
            "16/16 [========] - 20s 1s/step - Loss: 0.6731 - Accuracy: 47.0288\n",
            "Validation set: Average loss: 0.6733, Accuracy: 52.00%\n",
            "\n",
            "Epoch 5:\n",
            "16/16 [========] - 20s 1s/step - Loss: 0.6544 - Accuracy: 48.0475\n",
            "Validation set: Average loss: 0.6497, Accuracy: 67.25%\n",
            "\n",
            "Validation accuracy improved from 52.00% to 67.25%\n",
            "\n",
            "Epoch 6:\n",
            "16/16 [========] - 20s 1s/step - Loss: 0.6206 - Accuracy: 67.6287\n",
            "Validation set: Average loss: 0.6090, Accuracy: 77.75%\n",
            "\n",
            "Validation accuracy improved from 67.25% to 77.75%\n",
            "\n",
            "Epoch 7:\n",
            "16/16 [========] - 20s 1s/step - Loss: 0.5681 - Accuracy: 73.6819\n",
            "Validation set: Average loss: 0.5558, Accuracy: 80.75%\n",
            "\n",
            "Validation accuracy improved from 77.75% to 80.75%\n",
            "\n",
            "Epoch 8:\n",
            "16/16 [========] - 20s 1s/step - Loss: 0.5069 - Accuracy: 75.5675\n",
            "Validation set: Average loss: 0.5158, Accuracy: 86.00%\n",
            "\n",
            "Validation accuracy improved from 80.75% to 86.00%\n",
            "\n",
            "Epoch 9:\n",
            "16/16 [========] - 20s 1s/step - Loss: 0.4712 - Accuracy: 76.3437\n",
            "Validation set: Average loss: 0.4812, Accuracy: 79.50%\n",
            "\n",
            "Epoch 10:\n",
            "16/16 [========] - 20s 1s/step - Loss: 0.4669 - Accuracy: 75.2238\n",
            "Validation set: Average loss: 0.4961, Accuracy: 82.50%\n",
            "\n",
            "Epoch 11:\n",
            "16/16 [========] - 20s 1s/step - Loss: 0.4681 - Accuracy: 76.1631\n",
            "Validation set: Average loss: 0.4729, Accuracy: 82.25%\n",
            "\n",
            "Epoch 12:\n",
            "16/16 [========] - 20s 1s/step - Loss: 0.4613 - Accuracy: 74.7488\n",
            "Validation set: Average loss: 0.4796, Accuracy: 81.75%\n",
            "\n",
            "Epoch 13:\n",
            "16/16 [========] - 20s 1s/step - Loss: 0.4606 - Accuracy: 77.0669\n",
            "Validation set: Average loss: 0.5177, Accuracy: 81.75%\n",
            "\n",
            "Epoch 14:\n",
            "16/16 [========] - 20s 1s/step - Loss: 0.4587 - Accuracy: 77.5000\n",
            "Validation set: Average loss: 0.5104, Accuracy: 82.50%\n",
            "\n",
            "Epoch 15:\n",
            "16/16 [========] - 20s 1s/step - Loss: 0.4569 - Accuracy: 76.7806\n",
            "Validation set: Average loss: 0.4861, Accuracy: 82.75%\n",
            "\n",
            "Epoch 16:\n",
            "16/16 [========] - 20s 1s/step - Loss: 0.4625 - Accuracy: 76.0825\n",
            "Validation set: Average loss: 0.4937, Accuracy: 82.50%\n",
            "\n",
            "Epoch 17:\n",
            "16/16 [========] - 20s 1s/step - Loss: 0.4669 - Accuracy: 77.2750\n",
            "Validation set: Average loss: 0.4826, Accuracy: 83.00%\n",
            "\n",
            "Epoch 18:\n",
            "16/16 [========] - 20s 1s/step - Loss: 0.4563 - Accuracy: 76.9506\n",
            "Validation set: Average loss: 0.4862, Accuracy: 82.75%\n",
            "\n",
            "Epoch 19:\n",
            "16/16 [========] - 20s 1s/step - Loss: 0.4619 - Accuracy: 75.0450\n",
            "Validation set: Average loss: 0.4783, Accuracy: 79.50%\n",
            "\n",
            "Epoch 20:\n",
            "16/16 [========] - 20s 1s/step - Loss: 0.4681 - Accuracy: 76.8213\n",
            "Validation set: Average loss: 0.4589, Accuracy: 79.25%\n",
            "\n",
            "Epoch 21:\n",
            "16/16 [========] - 20s 1s/step - Loss: 0.4550 - Accuracy: 75.1269\n",
            "Validation set: Average loss: 0.4934, Accuracy: 81.75%\n",
            "\n",
            "Epoch 22:\n",
            "16/16 [========] - 20s 1s/step - Loss: 0.4600 - Accuracy: 75.5900\n",
            "Validation set: Average loss: 0.4718, Accuracy: 81.50%\n",
            "\n",
            "Epoch 23:\n",
            "16/16 [========] - 20s 1s/step - Loss: 0.4650 - Accuracy: 75.8663\n",
            "Validation set: Average loss: 0.5113, Accuracy: 83.00%\n",
            "\n",
            "Epoch 24:\n",
            "16/16 [========] - 20s 1s/step - Loss: 0.4631 - Accuracy: 76.1875\n",
            "Validation set: Average loss: 0.5131, Accuracy: 84.75%\n",
            "\n",
            "Epoch 25:\n",
            "16/16 [========] - 20s 1s/step - Loss: 0.4619 - Accuracy: 75.8006\n",
            "Validation set: Average loss: 0.5014, Accuracy: 81.25%\n",
            "\n",
            "Epoch 26:\n",
            "16/16 [========] - 20s 1s/step - Loss: 0.4625 - Accuracy: 75.3294\n",
            "Validation set: Average loss: 0.4952, Accuracy: 82.75%\n",
            "\n",
            "Epoch 27:\n",
            "16/16 [========] - 20s 1s/step - Loss: 0.4656 - Accuracy: 76.5531\n",
            "Validation set: Average loss: 0.4876, Accuracy: 83.25%\n",
            "\n",
            "Epoch 28:\n",
            "16/16 [========] - 20s 1s/step - Loss: 0.4575 - Accuracy: 74.9881\n",
            "Validation set: Average loss: 0.4743, Accuracy: 82.25%\n",
            "\n",
            "Epoch 29:\n",
            "16/16 [========] - 20s 1s/step - Loss: 0.4594 - Accuracy: 76.5500\n",
            "Validation set: Average loss: 0.4717, Accuracy: 83.25%\n",
            "\n",
            "Epoch 30:\n",
            "16/16 [========] - 20s 1s/step - Loss: 0.4638 - Accuracy: 77.0219\n",
            "Validation set: Average loss: 0.4704, Accuracy: 80.25%\n",
            "\n",
            "Epoch 31:\n",
            "16/16 [========] - 20s 1s/step - Loss: 0.4606 - Accuracy: 76.6906\n",
            "Validation set: Average loss: 0.4692, Accuracy: 82.00%\n",
            "\n",
            "Epoch 32:\n",
            "16/16 [========] - 20s 1s/step - Loss: 0.4612 - Accuracy: 76.2419\n",
            "Validation set: Average loss: 0.4622, Accuracy: 82.25%\n",
            "\n",
            "Epoch 33:\n",
            "16/16 [========] - 20s 1s/step - Loss: 0.4531 - Accuracy: 76.3219\n",
            "Validation set: Average loss: 0.4787, Accuracy: 81.75%\n",
            "\n",
            "Epoch 34:\n",
            "16/16 [========] - 20s 1s/step - Loss: 0.4588 - Accuracy: 76.1712\n",
            "Validation set: Average loss: 0.4758, Accuracy: 80.00%\n",
            "\n",
            "Epoch 35:\n",
            "16/16 [========] - 20s 1s/step - Loss: 0.4662 - Accuracy: 76.1775\n",
            "Validation set: Average loss: 0.4683, Accuracy: 81.75%\n",
            "\n",
            "Epoch 36:\n",
            "16/16 [========] - 20s 1s/step - Loss: 0.4663 - Accuracy: 77.0975\n",
            "Validation set: Average loss: 0.4808, Accuracy: 80.75%\n",
            "\n",
            "Epoch 37:\n",
            "16/16 [========] - 20s 1s/step - Loss: 0.4512 - Accuracy: 76.1894\n",
            "Validation set: Average loss: 0.4524, Accuracy: 82.00%\n",
            "\n",
            "Epoch 38:\n",
            "16/16 [========] - 20s 1s/step - Loss: 0.4537 - Accuracy: 76.4487\n",
            "Validation set: Average loss: 0.4614, Accuracy: 82.25%\n",
            "\n",
            "Epoch 39:\n",
            "16/16 [========] - 20s 1s/step - Loss: 0.4519 - Accuracy: 77.0237\n",
            "Validation set: Average loss: 0.4422, Accuracy: 83.00%\n",
            "\n",
            "Epoch 40:\n",
            "16/16 [========] - 20s 1s/step - Loss: 0.4294 - Accuracy: 77.5000\n",
            "Validation set: Average loss: 0.4619, Accuracy: 86.50%\n",
            "\n",
            "Validation accuracy improved from 86.00% to 86.50%\n",
            "\n",
            "Epoch 41:\n",
            "16/16 [========] - 20s 1s/step - Loss: 0.4356 - Accuracy: 77.2881\n",
            "Validation set: Average loss: 0.4700, Accuracy: 82.50%\n",
            "\n",
            "Epoch 42:\n",
            "16/16 [========] - 20s 1s/step - Loss: 0.4231 - Accuracy: 77.3219\n",
            "Validation set: Average loss: 0.4255, Accuracy: 85.75%\n",
            "\n",
            "Epoch 43:\n",
            "16/16 [========] - 20s 1s/step - Loss: 0.4169 - Accuracy: 78.8444\n",
            "Validation set: Average loss: 0.4199, Accuracy: 85.00%\n",
            "\n",
            "Epoch 44:\n",
            "16/16 [========] - 20s 1s/step - Loss: 0.4131 - Accuracy: 78.4575\n",
            "Validation set: Average loss: 0.4512, Accuracy: 87.75%\n",
            "\n",
            "Validation accuracy improved from 86.50% to 87.75%\n",
            "\n",
            "Epoch 45:\n",
            "16/16 [========] - 20s 1s/step - Loss: 0.4106 - Accuracy: 79.1675\n",
            "Validation set: Average loss: 0.4251, Accuracy: 83.00%\n",
            "\n",
            "Epoch 46:\n",
            "16/16 [========] - 20s 1s/step - Loss: 0.4056 - Accuracy: 77.6338\n",
            "Validation set: Average loss: 0.4234, Accuracy: 85.50%\n",
            "\n",
            "Epoch 47:\n",
            "16/16 [========] - 20s 1s/step - Loss: 0.4088 - Accuracy: 77.7450\n",
            "Validation set: Average loss: 0.4373, Accuracy: 85.75%\n",
            "\n",
            "Epoch 48:\n",
            "16/16 [========] - 20s 1s/step - Loss: 0.4119 - Accuracy: 78.5806\n",
            "Validation set: Average loss: 0.4131, Accuracy: 85.75%\n",
            "\n",
            "Epoch 49:\n",
            "16/16 [========] - 20s 1s/step - Loss: 0.4069 - Accuracy: 78.2550\n",
            "Validation set: Average loss: 0.4456, Accuracy: 85.50%\n",
            "\n",
            "Epoch 50:\n",
            "16/16 [========] - 20s 1s/step - Loss: 0.4094 - Accuracy: 79.1656\n",
            "Validation set: Average loss: 0.4347, Accuracy: 85.75%\n",
            "\n",
            "Epoch 51:\n",
            "16/16 [========] - 20s 1s/step - Loss: 0.4181 - Accuracy: 80.0588\n",
            "Validation set: Average loss: 0.4272, Accuracy: 85.00%\n",
            "\n",
            "Epoch 52:\n",
            "16/16 [========] - 20s 1s/step - Loss: 0.4175 - Accuracy: 78.8744\n",
            "Validation set: Average loss: 0.4291, Accuracy: 84.00%\n",
            "\n",
            "Epoch 53:\n",
            "16/16 [========] - 20s 1s/step - Loss: 0.4106 - Accuracy: 78.0294\n",
            "Validation set: Average loss: 0.4228, Accuracy: 86.25%\n",
            "\n",
            "Epoch 54:\n",
            "16/16 [========] - 20s 1s/step - Loss: 0.4194 - Accuracy: 79.9838\n",
            "Validation set: Average loss: 0.4428, Accuracy: 86.00%\n",
            "\n",
            "Epoch 55:\n",
            "16/16 [========] - 20s 1s/step - Loss: 0.4175 - Accuracy: 79.1156\n",
            "Validation set: Average loss: 0.4347, Accuracy: 85.25%\n",
            "\n",
            "Epoch 56:\n",
            "16/16 [========] - 20s 1s/step - Loss: 0.4250 - Accuracy: 78.1825\n",
            "Validation set: Average loss: 0.4330, Accuracy: 85.75%\n",
            "\n",
            "Epoch 57:\n",
            "16/16 [========] - 20s 1s/step - Loss: 0.4206 - Accuracy: 79.9981\n",
            "Validation set: Average loss: 0.4193, Accuracy: 85.00%\n",
            "\n",
            "Epoch 58:\n",
            "16/16 [========] - 20s 1s/step - Loss: 0.4175 - Accuracy: 78.8738\n",
            "Validation set: Average loss: 0.4135, Accuracy: 84.75%\n",
            "\n",
            "Epoch 59:\n",
            "16/16 [========] - 20s 1s/step - Loss: 0.4112 - Accuracy: 79.3375\n",
            "Validation set: Average loss: 0.4342, Accuracy: 87.25%\n",
            "\n",
            "Epoch 60:\n",
            "16/16 [========] - 20s 1s/step - Loss: 0.4056 - Accuracy: 78.3981\n",
            "Validation set: Average loss: 0.4243, Accuracy: 85.00%\n",
            "\n",
            "Epoch 61:\n",
            "16/16 [========] - 20s 1s/step - Loss: 0.4075 - Accuracy: 79.6250\n",
            "Validation set: Average loss: 0.4200, Accuracy: 85.75%\n",
            "\n",
            "Epoch 62:\n",
            "16/16 [========] - 20s 1s/step - Loss: 0.4012 - Accuracy: 78.6988\n",
            "Validation set: Average loss: 0.3947, Accuracy: 86.50%\n",
            "\n",
            "Epoch 63:\n",
            "16/16 [========] - 20s 1s/step - Loss: 0.4012 - Accuracy: 78.8319\n",
            "Validation set: Average loss: 0.4229, Accuracy: 85.75%\n",
            "\n",
            "Epoch 64:\n",
            "16/16 [========] - 20s 1s/step - Loss: 0.3994 - Accuracy: 78.9525\n",
            "Validation set: Average loss: 0.4051, Accuracy: 84.75%\n",
            "\n",
            "Epoch 65:\n",
            "16/16 [========] - 20s 1s/step - Loss: 0.4106 - Accuracy: 78.3125\n",
            "Validation set: Average loss: 0.4283, Accuracy: 83.50%\n",
            "\n",
            "Epoch 66:\n",
            "16/16 [========] - 20s 1s/step - Loss: 0.4125 - Accuracy: 78.4906\n",
            "Validation set: Average loss: 0.4159, Accuracy: 83.75%\n",
            "\n",
            "Epoch 67:\n",
            "16/16 [========] - 20s 1s/step - Loss: 0.4113 - Accuracy: 79.3312\n",
            "Validation set: Average loss: 0.4275, Accuracy: 86.00%\n",
            "\n",
            "Epoch 68:\n",
            "16/16 [========] - 20s 1s/step - Loss: 0.4069 - Accuracy: 80.1587\n",
            "Validation set: Average loss: 0.4121, Accuracy: 85.75%\n",
            "\n",
            "Epoch 69:\n",
            "16/16 [========] - 20s 1s/step - Loss: 0.4144 - Accuracy: 79.9687\n",
            "Validation set: Average loss: 0.4147, Accuracy: 86.25%\n",
            "\n",
            "Epoch 70:\n",
            "16/16 [========] - 20s 1s/step - Loss: 0.4062 - Accuracy: 79.5506\n",
            "Validation set: Average loss: 0.4351, Accuracy: 87.00%\n",
            "\n",
            "Epoch 71:\n",
            "16/16 [========] - 20s 1s/step - Loss: 0.4069 - Accuracy: 78.8238\n",
            "Validation set: Average loss: 0.4206, Accuracy: 86.25%\n",
            "\n",
            "Epoch 72:\n",
            "16/16 [========] - 20s 1s/step - Loss: 0.4069 - Accuracy: 79.1169\n",
            "Validation set: Average loss: 0.4306, Accuracy: 86.25%\n",
            "\n",
            "Epoch 73:\n",
            "16/16 [========] - 20s 1s/step - Loss: 0.4206 - Accuracy: 79.3719\n",
            "Validation set: Average loss: 0.4218, Accuracy: 85.50%\n",
            "\n",
            "Epoch 74:\n",
            "16/16 [========] - 20s 1s/step - Loss: 0.4100 - Accuracy: 80.0519\n",
            "Validation set: Average loss: 0.4181, Accuracy: 85.75%\n",
            "\n",
            "Epoch 75:\n",
            "16/16 [========] - 20s 1s/step - Loss: 0.3975 - Accuracy: 78.0094\n",
            "Validation set: Average loss: 0.4143, Accuracy: 86.75%\n",
            "\n",
            "Epoch 76:\n",
            "16/16 [========] - 20s 1s/step - Loss: 0.4044 - Accuracy: 79.8081\n",
            "Validation set: Average loss: 0.3959, Accuracy: 85.75%\n",
            "\n",
            "Epoch 77:\n",
            "16/16 [========] - 20s 1s/step - Loss: 0.4256 - Accuracy: 79.8469\n",
            "Validation set: Average loss: 0.4423, Accuracy: 85.50%\n",
            "\n",
            "Epoch 78:\n",
            "16/16 [========] - 20s 1s/step - Loss: 0.4131 - Accuracy: 78.8712\n",
            "Validation set: Average loss: 0.4255, Accuracy: 86.50%\n",
            "\n",
            "Epoch 79:\n",
            "16/16 [========] - 20s 1s/step - Loss: 0.4062 - Accuracy: 79.6012\n",
            "Validation set: Average loss: 0.4335, Accuracy: 84.25%\n",
            "\n",
            "Epoch 80:\n",
            "16/16 [========] - 20s 1s/step - Loss: 0.4113 - Accuracy: 77.1644\n",
            "Validation set: Average loss: 0.4123, Accuracy: 84.75%\n",
            "\n",
            "Epoch 81:\n",
            "16/16 [========] - 20s 1s/step - Loss: 0.4062 - Accuracy: 78.8919\n",
            "Validation set: Average loss: 0.4181, Accuracy: 85.75%\n",
            "\n",
            "Epoch 82:\n",
            "16/16 [========] - 20s 1s/step - Loss: 0.4056 - Accuracy: 80.4694\n",
            "Validation set: Average loss: 0.4118, Accuracy: 86.25%\n",
            "\n",
            "Epoch 83:\n",
            "16/16 [========] - 20s 1s/step - Loss: 0.4012 - Accuracy: 78.4838\n",
            "Validation set: Average loss: 0.4307, Accuracy: 85.75%\n",
            "\n",
            "Epoch 84:\n",
            "16/16 [========] - 20s 1s/step - Loss: 0.4088 - Accuracy: 78.7294\n",
            "Validation set: Average loss: 0.4100, Accuracy: 84.50%\n",
            "\n",
            "Epoch 85:\n",
            "16/16 [========] - 20s 1s/step - Loss: 0.4000 - Accuracy: 77.7638\n",
            "Validation set: Average loss: 0.4142, Accuracy: 86.25%\n",
            "\n",
            "Epoch 86:\n",
            "16/16 [========] - 20s 1s/step - Loss: 0.4094 - Accuracy: 78.9450\n",
            "Validation set: Average loss: 0.4495, Accuracy: 88.00%\n",
            "\n",
            "Validation accuracy improved from 87.75% to 88.00%\n",
            "\n",
            "Epoch 87:\n",
            "16/16 [========] - 20s 1s/step - Loss: 0.4150 - Accuracy: 78.7237\n",
            "Validation set: Average loss: 0.4195, Accuracy: 86.00%\n",
            "\n",
            "Epoch 88:\n",
            "16/16 [========] - 20s 1s/step - Loss: 0.4131 - Accuracy: 79.2337\n",
            "Validation set: Average loss: 0.4153, Accuracy: 86.50%\n",
            "\n",
            "Epoch 89:\n",
            "16/16 [========] - 20s 1s/step - Loss: 0.4037 - Accuracy: 78.6806\n",
            "Validation set: Average loss: 0.4223, Accuracy: 84.50%\n",
            "\n",
            "Epoch 90:\n",
            "16/16 [========] - 20s 1s/step - Loss: 0.4394 - Accuracy: 79.3319\n",
            "Validation set: Average loss: 0.4827, Accuracy: 86.25%\n",
            "\n",
            "Epoch 91:\n",
            "16/16 [========] - 20s 1s/step - Loss: 0.4362 - Accuracy: 78.6462\n",
            "Validation set: Average loss: 0.4291, Accuracy: 85.00%\n",
            "\n",
            "Epoch 92:\n",
            "16/16 [========] - 20s 1s/step - Loss: 0.4206 - Accuracy: 78.1231\n",
            "Validation set: Average loss: 0.4365, Accuracy: 85.00%\n",
            "\n",
            "Epoch 93:\n",
            "16/16 [========] - 20s 1s/step - Loss: 0.4519 - Accuracy: 78.1606\n",
            "Validation set: Average loss: 0.4220, Accuracy: 86.50%\n",
            "\n",
            "Epoch 94:\n",
            "16/16 [========] - 20s 1s/step - Loss: 0.4369 - Accuracy: 76.7881\n",
            "Validation set: Average loss: 0.4618, Accuracy: 86.75%\n",
            "\n",
            "Epoch 95:\n",
            "16/16 [========] - 20s 1s/step - Loss: 0.4356 - Accuracy: 77.3769\n",
            "Validation set: Average loss: 0.4419, Accuracy: 85.50%\n",
            "\n",
            "Epoch 96:\n",
            "16/16 [========] - 20s 1s/step - Loss: 0.4244 - Accuracy: 79.1069\n",
            "Validation set: Average loss: 0.4318, Accuracy: 85.75%\n",
            "\n",
            "Epoch 97:\n",
            "16/16 [========] - 20s 1s/step - Loss: 0.4269 - Accuracy: 76.6688\n",
            "Validation set: Average loss: 0.4240, Accuracy: 84.25%\n",
            "\n",
            "Epoch 98:\n",
            "16/16 [========] - 20s 1s/step - Loss: 0.4250 - Accuracy: 77.9194\n",
            "Validation set: Average loss: 0.4267, Accuracy: 84.50%\n",
            "\n",
            "Epoch 99:\n",
            "16/16 [========] - 20s 1s/step - Loss: 0.4188 - Accuracy: 76.9769\n",
            "Validation set: Average loss: 0.4214, Accuracy: 85.25%\n",
            "\n",
            "Epoch 100:\n",
            "16/16 [========] - 20s 1s/step - Loss: 0.4344 - Accuracy: 78.8469\n",
            "Validation set: Average loss: 0.4344, Accuracy: 86.00%\n",
            "\n"
          ],
          "name": "stdout"
        }
      ]
    },
    {
      "cell_type": "markdown",
      "metadata": {
        "id": "jDKGWj_UO7i7"
      },
      "source": [
        "## Test"
      ]
    },
    {
      "cell_type": "code",
      "metadata": {
        "colab": {
          "base_uri": "https://localhost:8080/"
        },
        "id": "S78iMRrHPShv",
        "outputId": "ae3d4aea-a77e-49b9-96c2-fbb47fe8dd12"
      },
      "source": [
        "model.load_state_dict(torch.load('hypertension_detector.pt'))"
      ],
      "execution_count": null,
      "outputs": [
        {
          "output_type": "execute_result",
          "data": {
            "text/plain": [
              "<All keys matched successfully>"
            ]
          },
          "metadata": {
            "tags": []
          },
          "execution_count": 14
        }
      ]
    },
    {
      "cell_type": "code",
      "metadata": {
        "colab": {
          "base_uri": "https://localhost:8080/"
        },
        "id": "jzRIOlAVMS6n",
        "outputId": "5ee32f4b-2297-46d7-cd20-17e9be14d54b"
      },
      "source": [
        "_ = val(model, test_loader, criterion, device)"
      ],
      "execution_count": null,
      "outputs": [
        {
          "output_type": "stream",
          "text": [
            "Validation set: Average loss: 0.4052, Accuracy: 85.75%\n",
            "\n"
          ],
          "name": "stdout"
        }
      ]
    },
    {
      "cell_type": "code",
      "metadata": {
        "id": "otEha0_8P-5h"
      },
      "source": [
        ""
      ],
      "execution_count": null,
      "outputs": []
    }
  ]
}