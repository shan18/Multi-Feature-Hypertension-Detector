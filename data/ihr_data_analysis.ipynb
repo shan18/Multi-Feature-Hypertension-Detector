{
 "cells": [
  {
   "cell_type": "code",
   "execution_count": 31,
   "id": "b15fdc6b",
   "metadata": {},
   "outputs": [],
   "source": [
    "import json\n",
    "import h5py\n",
    "import numpy as np\n",
    "import matplotlib.pyplot as plt\n",
    "from sklearn.decomposition import PCA\n",
    "from sklearn.cluster import KMeans\n",
    "from tqdm import tqdm\n",
    "from multiprocessing import Pool"
   ]
  },
  {
   "cell_type": "markdown",
   "id": "ffd920e3",
   "metadata": {},
   "source": [
    "### Read user info"
   ]
  },
  {
   "cell_type": "code",
   "execution_count": 2,
   "id": "4e2820c8",
   "metadata": {},
   "outputs": [],
   "source": [
    "with open('user_info.json') as f:\n",
    "    user_info = json.load(f)"
   ]
  },
  {
   "cell_type": "code",
   "execution_count": 3,
   "id": "6076c099",
   "metadata": {},
   "outputs": [
    {
     "data": {
      "text/plain": [
       "{'record': '02425',\n",
       " 'gender': 0,\n",
       " 'age': 67,\n",
       " 'bsa': 1.78,\n",
       " 'bmi': 23.18,\n",
       " 'smoker': 1,\n",
       " 'sbp': 120.0,\n",
       " 'dbp': 80.0,\n",
       " 'vascular_event': 0,\n",
       " 'hypertensive': 1}"
      ]
     },
     "execution_count": 3,
     "metadata": {},
     "output_type": "execute_result"
    }
   ],
   "source": [
    "user_info[0]"
   ]
  },
  {
   "cell_type": "markdown",
   "id": "aec16911",
   "metadata": {},
   "source": [
    "### Read IHR data"
   ]
  },
  {
   "cell_type": "code",
   "execution_count": 4,
   "id": "6f1e50d4",
   "metadata": {},
   "outputs": [
    {
     "name": "stderr",
     "output_type": "stream",
     "text": [
      "100%|████████████████████████████████████████████████████████████████████████████████████████████████████████████████████████████████████████████████████| 211/211 [00:04<00:00, 43.63it/s]\n"
     ]
    }
   ],
   "source": [
    "ihr_data = []\n",
    "for uinfo in tqdm(user_info):\n",
    "    with open(f'files/ihr_data/{uinfo[\"record\"]}.txt') as f:\n",
    "        ihr_data.append([float(x.strip()) for x in f])"
   ]
  },
  {
   "cell_type": "code",
   "execution_count": 5,
   "id": "7a7c457a",
   "metadata": {},
   "outputs": [
    {
     "name": "stderr",
     "output_type": "stream",
     "text": [
      "100%|███████████████████████████████████████████████████████████████████████████████████████████████████████████████████████████████████████████████████| 211/211 [00:00<00:00, 801.95it/s]\n"
     ]
    }
   ],
   "source": [
    "max_len = len(max(ihr_data, key=len))\n",
    "for i in tqdm(range(len(ihr_data))):\n",
    "    ihr_data[i] = ihr_data[i] + [0] * (max_len - len(ihr_data[i]))\n",
    "ihr_data = np.array(ihr_data)"
   ]
  },
  {
   "cell_type": "markdown",
   "id": "4eaa14b0",
   "metadata": {},
   "source": [
    "## With original IHR data"
   ]
  },
  {
   "cell_type": "markdown",
   "id": "e1a2c163",
   "metadata": {},
   "source": [
    "### PCA"
   ]
  },
  {
   "cell_type": "code",
   "execution_count": 42,
   "id": "6ce5852b",
   "metadata": {},
   "outputs": [],
   "source": [
    "pca = PCA(2)\n",
    "ihr_data_reduced = pca.fit_transform(ihr_data)"
   ]
  },
  {
   "cell_type": "markdown",
   "id": "9e6f57c8",
   "metadata": {},
   "source": [
    "### K-Means"
   ]
  },
  {
   "cell_type": "code",
   "execution_count": 43,
   "id": "4b71630b",
   "metadata": {},
   "outputs": [],
   "source": [
    "kmeans = KMeans(n_clusters=2)\n",
    "label = kmeans.fit_predict(ihr_data_reduced)"
   ]
  },
  {
   "cell_type": "markdown",
   "id": "9bcc5b95",
   "metadata": {},
   "source": [
    "### Plot"
   ]
  },
  {
   "cell_type": "code",
   "execution_count": 46,
   "id": "9be35b40",
   "metadata": {},
   "outputs": [
    {
     "data": {
      "image/png": "[encoded data removed]",
      "text/plain": [
       "<Figure size 432x288 with 1 Axes>"
      ]
     },
     "metadata": {
      "needs_background": "light"
     },
     "output_type": "display_data"
    }
   ],
   "source": [
    "centroids = kmeans.cluster_centers_\n",
    "cluster1 = ihr_data_reduced[label == 0] \n",
    "cluster2 = ihr_data_reduced[label == 1]\n",
    "\n",
    "plt.scatter(cluster1[:,0] , cluster1[:,1] , color='red')\n",
    "plt.scatter(cluster2[:,0] , cluster2[:,1] , color='blue')\n",
    "plt.scatter(centroids[:,0] , centroids[:,1] , s=80, color='k')\n",
    "\n",
    "plt.show()"
   ]
  },
  {
   "cell_type": "markdown",
   "id": "647a0bf9",
   "metadata": {},
   "source": [
    "## With 17M samples"
   ]
  },
  {
   "cell_type": "markdown",
   "id": "e19247b2",
   "metadata": {},
   "source": [
    "### Load samples in memory"
   ]
  },
  {
   "cell_type": "code",
   "execution_count": 35,
   "id": "383ff9e7",
   "metadata": {},
   "outputs": [],
   "source": [
    "with h5py.File('128_overlap/physiobank_dataset.hdf5', 'r') as f:\n",
    "    key_list = list(f.keys())[:60]\n",
    "    stride = len(key_list) // 6\n",
    "    key_list = [key_list[x:x+stride] for x in range(0, len(key_list), stride)]"
   ]
  },
  {
   "cell_type": "code",
   "execution_count": 33,
   "id": "5f1aef37",
   "metadata": {},
   "outputs": [],
   "source": [
    "def load_data(keys):\n",
    "    accumulator = None\n",
    "    ihr_seq_file = h5py.File('128_overlap/physiobank_dataset.hdf5', 'r')\n",
    "    for key in keys:\n",
    "        key_data = np.expand_dims(ihr_seq_file[key][:], axis=0)\n",
    "        accumulator = key_data if accumulator is None else np.concatenate((accumulator, key_data), axis=0)\n",
    "    ihr_seq_file.close()\n",
    "    return accumulator"
   ]
  },
  {
   "cell_type": "code",
   "execution_count": 38,
   "id": "9dcd6e4c",
   "metadata": {},
   "outputs": [
    {
     "name": "stderr",
     "output_type": "stream",
     "text": [
      "6it [00:00, 256.04it/s]\n"
     ]
    }
   ],
   "source": [
    "accumulator = None\n",
    "pool = Pool(6)\n",
    "for idx, accumulated_data in tqdm(enumerate(pool.imap_unordered(load_data, key_list))):\n",
    "    accumulator = accumulated_data if accumulator is None else np.concatenate((accumulator, accumulated_data), axis=0)"
   ]
  },
  {
   "cell_type": "markdown",
   "id": "6b3baef7",
   "metadata": {},
   "source": [
    "### PCA"
   ]
  },
  {
   "cell_type": "code",
   "execution_count": 39,
   "id": "4536d629",
   "metadata": {},
   "outputs": [],
   "source": [
    "pca = PCA(2)\n",
    "ihr_reduced_data = pca.fit_transform(accumulator)"
   ]
  },
  {
   "cell_type": "markdown",
   "id": "5be8f327",
   "metadata": {},
   "source": [
    "### K-Means"
   ]
  },
  {
   "cell_type": "code",
   "execution_count": 40,
   "id": "4b71630b",
   "metadata": {},
   "outputs": [],
   "source": [
    "kmeans = KMeans(n_clusters=2)\n",
    "label = kmeans.fit_predict(ihr_reduced_data)"
   ]
  },
  {
   "cell_type": "markdown",
   "id": "9bcc5b95",
   "metadata": {},
   "source": [
    "### Plot"
   ]
  },
  {
   "cell_type": "code",
   "execution_count": 41,
   "id": "9be35b40",
   "metadata": {},
   "outputs": [
    {
     "name": "stderr",
     "output_type": "stream",
     "text": [
      "No artists with labels found to put in legend.  Note that artists whose label start with an underscore are ignored when legend() is called with no argument.\n"
     ]
    },
    {
     "data": {
      "image/png": "[encoded data removed]",
      "text/plain": [
       "<Figure size 432x288 with 1 Axes>"
      ]
     },
     "metadata": {
      "needs_background": "light"
     },
     "output_type": "display_data"
    }
   ],
   "source": [
    "centroids = kmeans.cluster_centers_\n",
    "cluster1 = ihr_reduced_data[label == 0] \n",
    "cluster2 = ihr_reduced_data[label == 1]\n",
    "\n",
    "plt.scatter(cluster1[:,0] , cluster1[:,1] , color='red')\n",
    "plt.scatter(cluster2[:,0] , cluster2[:,1] , color='blue')\n",
    "plt.scatter(centroids[:,0] , centroids[:,1] , s=80, color='k')\n",
    "\n",
    "plt.legend()\n",
    "plt.show()"
   ]
  },
  {
   "cell_type": "code",
   "execution_count": null,
   "id": "065a9754",
   "metadata": {},
   "outputs": [],
   "source": []
  }
 ],
 "metadata": {
  "kernelspec": {
   "display_name": "Python 3 (ipykernel)",
   "language": "python",
   "name": "python3"
  },
  "language_info": {
   "codemirror_mode": {
    "name": "ipython",
    "version": 3
   },
   "file_extension": ".py",
   "mimetype": "text/x-python",
   "name": "python",
   "nbconvert_exporter": "python",
   "pygments_lexer": "ipython3",
   "version": "3.9.7"
  }
 },
 "nbformat": 4,
 "nbformat_minor": 5
}
